{
 "cells": [
  {
   "cell_type": "code",
   "execution_count": 1,
   "metadata": {},
   "outputs": [],
   "source": [
    "from numpy import mean\n",
    "from numpy import std\n",
    "from sklearn.datasets import make_classification\n",
    "from sklearn.model_selection import cross_val_score\n",
    "from sklearn.model_selection import RepeatedStratifiedKFold\n",
    "from sklearn.feature_selection import RFE\n",
    "from sklearn.tree import DecisionTreeClassifier\n",
    "from sklearn.pipeline import Pipeline\n",
    "from sklearn.svm import SVC\n",
    "from matplotlib import pyplot\n",
    "import pandas as pd"
   ]
  },
  {
   "cell_type": "code",
   "execution_count": 2,
   "metadata": {},
   "outputs": [],
   "source": [
    "def get_dataset(file, n_features):\n",
    "    df = pd.read_csv(file, sep=',', index_col=0)\n",
    "    X = df.iloc[:, :n_features]\n",
    "    y = df.iloc[:, n_features]\n",
    "    return X, y"
   ]
  },
  {
   "cell_type": "code",
   "execution_count": 3,
   "metadata": {},
   "outputs": [],
   "source": [
    "def get_models(svm_c, n_features):\n",
    "    models = dict()\n",
    "    for i in range(2, n_features):\n",
    "        rfe = RFE(estimator=SVC(kernel='linear', C=svm_c), n_features_to_select=i)\n",
    "        model = SVC(kernel='linear', C=svm_c)\n",
    "        models[str(i)] = Pipeline(steps=[('s',rfe), ('m',model)])\n",
    "    return models"
   ]
  },
  {
   "cell_type": "code",
   "execution_count": 4,
   "metadata": {},
   "outputs": [],
   "source": [
    "def evaluate_model(model, X, y):\n",
    "    cv = RepeatedStratifiedKFold(n_splits=5, n_repeats=3, random_state=1)\n",
    "    scores = cross_val_score(model, X, y, scoring='accuracy', cv=cv, n_jobs=-1, error_score='raise')\n",
    "    return scores"
   ]
  },
  {
   "cell_type": "code",
   "execution_count": 5,
   "metadata": {},
   "outputs": [],
   "source": [
    "def run_rfe(models, X, y):    \n",
    "    results, names = list(), list()\n",
    "    for name, model in models.items():\n",
    "        scores = evaluate_model(model, X, y)\n",
    "        results.append(scores)\n",
    "        names.append(name)\n",
    "        print('>%s %.3f (%.3f)' % (name, mean(scores), std(scores)))\n",
    "    return results, names"
   ]
  },
  {
   "cell_type": "code",
   "execution_count": 6,
   "metadata": {},
   "outputs": [],
   "source": [
    "def selected_features(svm_c, n, X, y):\n",
    "    rfe = RFE(estimator=SVC(kernel='linear', C=svm_c), n_features_to_select=n)\n",
    "    rfe.fit(X,y)\n",
    "    cols = []\n",
    "    for i in range(X.shape[1]):\n",
    "        # print('Column: %d, Selected %s, Rank: % .3f' % (i, rfe.support_[i], rfe.ranking_[i]))\n",
    "        if rfe.support_[i]:\n",
    "            cols.append(X.columns[i])\n",
    "    return cols"
   ]
  },
  {
   "cell_type": "code",
   "execution_count": null,
   "metadata": {},
   "outputs": [],
   "source": []
  },
  {
   "cell_type": "code",
   "execution_count": 7,
   "metadata": {},
   "outputs": [],
   "source": [
    "file = '~/RFE_46.csv'\n",
    "X,y = get_dataset(file, 46)"
   ]
  },
  {
   "cell_type": "code",
   "execution_count": 8,
   "metadata": {},
   "outputs": [],
   "source": [
    "models = get_models(8,46)"
   ]
  },
  {
   "cell_type": "code",
   "execution_count": 9,
   "metadata": {
    "collapsed": true,
    "jupyter": {
     "outputs_hidden": true
    }
   },
   "outputs": [
    {
     "name": "stdout",
     "output_type": "stream",
     "text": [
      ">2 0.700 (0.187)\n",
      ">3 0.700 (0.187)\n",
      ">4 0.617 (0.180)\n",
      ">5 0.667 (0.175)\n",
      ">6 0.683 (0.170)\n",
      ">7 0.733 (0.143)\n",
      ">8 0.733 (0.143)\n",
      ">9 0.717 (0.155)\n",
      ">10 0.733 (0.170)\n",
      ">11 0.733 (0.170)\n",
      ">12 0.733 (0.170)\n",
      ">13 0.733 (0.170)\n",
      ">14 0.750 (0.158)\n",
      ">15 0.767 (0.170)\n",
      ">16 0.767 (0.143)\n",
      ">17 0.783 (0.155)\n",
      ">18 0.800 (0.163)\n",
      ">19 0.817 (0.170)\n",
      ">20 0.800 (0.187)\n",
      ">21 0.800 (0.187)\n",
      ">22 0.833 (0.149)\n",
      ">23 0.833 (0.149)\n",
      ">24 0.833 (0.149)\n",
      ">25 0.833 (0.149)\n",
      ">26 0.833 (0.149)\n",
      ">27 0.833 (0.149)\n",
      ">28 0.833 (0.149)\n",
      ">29 0.833 (0.149)\n",
      ">30 0.833 (0.149)\n",
      ">31 0.850 (0.122)\n",
      ">32 0.850 (0.122)\n",
      ">33 0.850 (0.122)\n",
      ">34 0.850 (0.122)\n",
      ">35 0.833 (0.149)\n",
      ">36 0.850 (0.122)\n",
      ">37 0.850 (0.122)\n",
      ">38 0.850 (0.122)\n",
      ">39 0.850 (0.122)\n",
      ">40 0.850 (0.122)\n",
      ">41 0.850 (0.122)\n",
      ">42 0.850 (0.122)\n",
      ">43 0.850 (0.122)\n",
      ">44 0.850 (0.122)\n",
      ">45 0.850 (0.122)\n"
     ]
    }
   ],
   "source": [
    "results, names = run_rfe(models, X, y)"
   ]
  },
  {
   "cell_type": "code",
   "execution_count": 10,
   "metadata": {},
   "outputs": [
    {
     "data": {
      "image/png": "[encoded data removed]",
      "text/plain": [
       "<Figure size 432x288 with 1 Axes>"
      ]
     },
     "metadata": {
      "needs_background": "light"
     },
     "output_type": "display_data"
    }
   ],
   "source": [
    "pyplot.boxplot(results, labels=names, showmeans=True)\n",
    "pyplot.show()"
   ]
  },
  {
   "cell_type": "code",
   "execution_count": 11,
   "metadata": {},
   "outputs": [
    {
     "data": {
      "text/plain": [
       "['CTD-2026A21.1',\n",
       " 'MSMB',\n",
       " 'FBP2',\n",
       " 'LINC00992',\n",
       " 'NLRP4',\n",
       " 'Lnc-KY-2',\n",
       " 'Lnc-GJA10-4',\n",
       " 'PRSS8',\n",
       " 'CPA6',\n",
       " 'IGHVII-60-1',\n",
       " 'CAMP',\n",
       " 'SDR16C5',\n",
       " 'Lnc-SAMSN1-2',\n",
       " 'LINC01747',\n",
       " 'CCDC85A',\n",
       " 'Lnc-MEF2C-4',\n",
       " 'KCNQ1OT1',\n",
       " 'VWCE',\n",
       " 'ABCA9',\n",
       " 'Lnc-PABPN1L-1',\n",
       " 'CFAP91',\n",
       " 'SPTBN2',\n",
       " 'KCNJ2',\n",
       " 'WNT9A',\n",
       " 'CASP5',\n",
       " 'LINC01415',\n",
       " 'Lnc-IRF2BP2-1',\n",
       " 'PTBP1P',\n",
       " 'TMEM132B',\n",
       " 'ACOD1',\n",
       " 'MYOCD']"
      ]
     },
     "execution_count": 11,
     "metadata": {},
     "output_type": "execute_result"
    }
   ],
   "source": [
    "selected_features(8, 31, X, y)"
   ]
  },
  {
   "cell_type": "code",
   "execution_count": null,
   "metadata": {},
   "outputs": [],
   "source": []
  }
 ],
 "metadata": {
  "kernelspec": {
   "display_name": "Python 3",
   "language": "python",
   "name": "python3"
  },
  "language_info": {
   "codemirror_mode": {
    "name": "ipython",
    "version": 3
   },
   "file_extension": ".py",
   "mimetype": "text/x-python",
   "name": "python",
   "nbconvert_exporter": "python",
   "pygments_lexer": "ipython3",
   "version": "3.7.4"
  }
 },
 "nbformat": 4,
 "nbformat_minor": 4
}
