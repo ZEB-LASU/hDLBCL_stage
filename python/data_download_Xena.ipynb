{
 "cells": [
  {
   "cell_type": "code",
   "execution_count": 1,
   "metadata": {},
   "outputs": [],
   "source": [
    "import numpy as np\n",
    "import pandas as pd"
   ]
  },
  {
   "cell_type": "code",
   "execution_count": 3,
   "metadata": {},
   "outputs": [],
   "source": [
    "import xenaPython as xena"
   ]
  },
  {
   "cell_type": "code",
   "execution_count": 4,
   "metadata": {},
   "outputs": [],
   "source": [
    "df = pd.read_csv('~/TCGA-DLBC.GDC_phenotype.tsv', sep='\\t', encoding = \"ISO-8859-1\")"
   ]
  },
  {
   "cell_type": "code",
   "execution_count": 5,
   "metadata": {
    "collapsed": true,
    "jupyter": {
     "outputs_hidden": true
    }
   },
   "outputs": [
    {
     "data": {
      "text/html": [
       "<div>\n",
       "<style scoped>\n",
       "    .dataframe tbody tr th:only-of-type {\n",
       "        vertical-align: middle;\n",
       "    }\n",
       "\n",
       "    .dataframe tbody tr th {\n",
       "        vertical-align: top;\n",
       "    }\n",
       "\n",
       "    .dataframe thead th {\n",
       "        text-align: right;\n",
       "    }\n",
       "</style>\n",
       "<table border=\"1\" class=\"dataframe\">\n",
       "  <thead>\n",
       "    <tr style=\"text-align: right;\">\n",
       "      <th></th>\n",
       "      <th>submitter_id.samples</th>\n",
       "      <th>age_at_initial_pathologic_diagnosis</th>\n",
       "      <th>b_lymphocyte_genotyping_method</th>\n",
       "      <th>b_symptoms</th>\n",
       "      <th>batch_number</th>\n",
       "      <th>bcr</th>\n",
       "      <th>bcr_followup_barcode</th>\n",
       "      <th>bcr_followup_uuid</th>\n",
       "      <th>submitter_id</th>\n",
       "      <th>bone_marrow_biopsy_done</th>\n",
       "      <th>...</th>\n",
       "      <th>intermediate_dimension.samples</th>\n",
       "      <th>is_ffpe.samples</th>\n",
       "      <th>longest_dimension.samples</th>\n",
       "      <th>oct_embedded.samples</th>\n",
       "      <th>preservation_method.samples</th>\n",
       "      <th>sample_type.samples</th>\n",
       "      <th>sample_type_id.samples</th>\n",
       "      <th>shortest_dimension.samples</th>\n",
       "      <th>state.samples</th>\n",
       "      <th>tissue_type.samples</th>\n",
       "    </tr>\n",
       "  </thead>\n",
       "  <tbody>\n",
       "    <tr>\n",
       "      <th>0</th>\n",
       "      <td>TCGA-FA-A6HN-01A</td>\n",
       "      <td>73</td>\n",
       "      <td>NaN</td>\n",
       "      <td>NO</td>\n",
       "      <td>326.45.0</td>\n",
       "      <td>Nationwide Children's Hospital</td>\n",
       "      <td>TCGA-FA-A6HN-F63567</td>\n",
       "      <td>2FF9624C-C1FF-4A3B-9FFB-0A2E1136A1CD</td>\n",
       "      <td>TCGA-FA-A6HN</td>\n",
       "      <td>NO</td>\n",
       "      <td>...</td>\n",
       "      <td>NaN</td>\n",
       "      <td>False</td>\n",
       "      <td>NaN</td>\n",
       "      <td>True</td>\n",
       "      <td>NaN</td>\n",
       "      <td>Primary Tumor</td>\n",
       "      <td>1</td>\n",
       "      <td>NaN</td>\n",
       "      <td>released</td>\n",
       "      <td>Not Reported</td>\n",
       "    </tr>\n",
       "    <tr>\n",
       "      <th>1</th>\n",
       "      <td>TCGA-GR-A4D4-01A</td>\n",
       "      <td>57</td>\n",
       "      <td>NaN</td>\n",
       "      <td>YES</td>\n",
       "      <td>326.45.0</td>\n",
       "      <td>Nationwide Children's Hospital</td>\n",
       "      <td>TCGA-GR-A4D4-F55574</td>\n",
       "      <td>C7009E8E-9B88-4AC1-BCBE-5F909CCB7159</td>\n",
       "      <td>TCGA-GR-A4D4</td>\n",
       "      <td>YES</td>\n",
       "      <td>...</td>\n",
       "      <td>NaN</td>\n",
       "      <td>False</td>\n",
       "      <td>NaN</td>\n",
       "      <td>False</td>\n",
       "      <td>NaN</td>\n",
       "      <td>Primary Tumor</td>\n",
       "      <td>1</td>\n",
       "      <td>NaN</td>\n",
       "      <td>released</td>\n",
       "      <td>Not Reported</td>\n",
       "    </tr>\n",
       "    <tr>\n",
       "      <th>2</th>\n",
       "      <td>TCGA-GS-A9TT-01A</td>\n",
       "      <td>70</td>\n",
       "      <td>NaN</td>\n",
       "      <td>NO</td>\n",
       "      <td>397.39.0</td>\n",
       "      <td>Nationwide Children's Hospital</td>\n",
       "      <td>TCGA-GS-A9TT-F66756</td>\n",
       "      <td>01292404-F955-478D-8493-A93DA649AF6C</td>\n",
       "      <td>TCGA-GS-A9TT</td>\n",
       "      <td>YES</td>\n",
       "      <td>...</td>\n",
       "      <td>NaN</td>\n",
       "      <td>False</td>\n",
       "      <td>NaN</td>\n",
       "      <td>True</td>\n",
       "      <td>NaN</td>\n",
       "      <td>Primary Tumor</td>\n",
       "      <td>1</td>\n",
       "      <td>NaN</td>\n",
       "      <td>released</td>\n",
       "      <td>Not Reported</td>\n",
       "    </tr>\n",
       "    <tr>\n",
       "      <th>3</th>\n",
       "      <td>TCGA-FF-A7CQ-01A</td>\n",
       "      <td>74</td>\n",
       "      <td>NaN</td>\n",
       "      <td>YES</td>\n",
       "      <td>397.39.0</td>\n",
       "      <td>Nationwide Children's Hospital</td>\n",
       "      <td>TCGA-FF-A7CQ-F50787</td>\n",
       "      <td>4B8ED15F-FE05-4943-AA0E-F97D130A9D26</td>\n",
       "      <td>TCGA-FF-A7CQ</td>\n",
       "      <td>YES</td>\n",
       "      <td>...</td>\n",
       "      <td>NaN</td>\n",
       "      <td>False</td>\n",
       "      <td>NaN</td>\n",
       "      <td>False</td>\n",
       "      <td>NaN</td>\n",
       "      <td>Primary Tumor</td>\n",
       "      <td>1</td>\n",
       "      <td>NaN</td>\n",
       "      <td>released</td>\n",
       "      <td>Not Reported</td>\n",
       "    </tr>\n",
       "    <tr>\n",
       "      <th>4</th>\n",
       "      <td>TCGA-FF-8046-01A</td>\n",
       "      <td>51</td>\n",
       "      <td>NaN</td>\n",
       "      <td>NO</td>\n",
       "      <td>212.48.0</td>\n",
       "      <td>Nationwide Children's Hospital</td>\n",
       "      <td>TCGA-FF-8046-F30762</td>\n",
       "      <td>85B1822D-B3B9-4102-9E8C-DCF8052EA79A</td>\n",
       "      <td>TCGA-FF-8046</td>\n",
       "      <td>NaN</td>\n",
       "      <td>...</td>\n",
       "      <td>NaN</td>\n",
       "      <td>False</td>\n",
       "      <td>NaN</td>\n",
       "      <td>NaN</td>\n",
       "      <td>NaN</td>\n",
       "      <td>Primary Tumor</td>\n",
       "      <td>1</td>\n",
       "      <td>NaN</td>\n",
       "      <td>released</td>\n",
       "      <td>Not Reported</td>\n",
       "    </tr>\n",
       "  </tbody>\n",
       "</table>\n",
       "<p>5 rows × 114 columns</p>\n",
       "</div>"
      ],
      "text/plain": [
       "  submitter_id.samples  age_at_initial_pathologic_diagnosis  \\\n",
       "0     TCGA-FA-A6HN-01A                                   73   \n",
       "1     TCGA-GR-A4D4-01A                                   57   \n",
       "2     TCGA-GS-A9TT-01A                                   70   \n",
       "3     TCGA-FF-A7CQ-01A                                   74   \n",
       "4     TCGA-FF-8046-01A                                   51   \n",
       "\n",
       "  b_lymphocyte_genotyping_method b_symptoms batch_number  \\\n",
       "0                            NaN         NO     326.45.0   \n",
       "1                            NaN        YES     326.45.0   \n",
       "2                            NaN         NO     397.39.0   \n",
       "3                            NaN        YES     397.39.0   \n",
       "4                            NaN         NO     212.48.0   \n",
       "\n",
       "                              bcr bcr_followup_barcode  \\\n",
       "0  Nationwide Children's Hospital  TCGA-FA-A6HN-F63567   \n",
       "1  Nationwide Children's Hospital  TCGA-GR-A4D4-F55574   \n",
       "2  Nationwide Children's Hospital  TCGA-GS-A9TT-F66756   \n",
       "3  Nationwide Children's Hospital  TCGA-FF-A7CQ-F50787   \n",
       "4  Nationwide Children's Hospital  TCGA-FF-8046-F30762   \n",
       "\n",
       "                      bcr_followup_uuid  submitter_id bone_marrow_biopsy_done  \\\n",
       "0  2FF9624C-C1FF-4A3B-9FFB-0A2E1136A1CD  TCGA-FA-A6HN                      NO   \n",
       "1  C7009E8E-9B88-4AC1-BCBE-5F909CCB7159  TCGA-GR-A4D4                     YES   \n",
       "2  01292404-F955-478D-8493-A93DA649AF6C  TCGA-GS-A9TT                     YES   \n",
       "3  4B8ED15F-FE05-4943-AA0E-F97D130A9D26  TCGA-FF-A7CQ                     YES   \n",
       "4  85B1822D-B3B9-4102-9E8C-DCF8052EA79A  TCGA-FF-8046                     NaN   \n",
       "\n",
       "   ... intermediate_dimension.samples is_ffpe.samples  \\\n",
       "0  ...                            NaN           False   \n",
       "1  ...                            NaN           False   \n",
       "2  ...                            NaN           False   \n",
       "3  ...                            NaN           False   \n",
       "4  ...                            NaN           False   \n",
       "\n",
       "  longest_dimension.samples  oct_embedded.samples  \\\n",
       "0                       NaN                  True   \n",
       "1                       NaN                 False   \n",
       "2                       NaN                  True   \n",
       "3                       NaN                 False   \n",
       "4                       NaN                   NaN   \n",
       "\n",
       "   preservation_method.samples  sample_type.samples  sample_type_id.samples  \\\n",
       "0                          NaN        Primary Tumor                       1   \n",
       "1                          NaN        Primary Tumor                       1   \n",
       "2                          NaN        Primary Tumor                       1   \n",
       "3                          NaN        Primary Tumor                       1   \n",
       "4                          NaN        Primary Tumor                       1   \n",
       "\n",
       "  shortest_dimension.samples state.samples tissue_type.samples  \n",
       "0                        NaN      released        Not Reported  \n",
       "1                        NaN      released        Not Reported  \n",
       "2                        NaN      released        Not Reported  \n",
       "3                        NaN      released        Not Reported  \n",
       "4                        NaN      released        Not Reported  \n",
       "\n",
       "[5 rows x 114 columns]"
      ]
     },
     "execution_count": 5,
     "metadata": {},
     "output_type": "execute_result"
    }
   ],
   "source": [
    "df.head()"
   ]
  },
  {
   "cell_type": "code",
   "execution_count": 6,
   "metadata": {},
   "outputs": [],
   "source": [
    "df = df.set_index('submitter_id.samples')"
   ]
  },
  {
   "cell_type": "code",
   "execution_count": 7,
   "metadata": {},
   "outputs": [],
   "source": [
    "df_S4 = df.query('clinical_stage==\"Stage IV\"')\n",
    "\n",
    "df_S1 = df.query('clinical_stage==\"Stage I\"')"
   ]
  },
  {
   "cell_type": "code",
   "execution_count": 8,
   "metadata": {},
   "outputs": [],
   "source": [
    "hub = \"https://gdc.xenahubs.net\"\n",
    "cohort = \"GDC TCGA Large B-cell Lymphoma (DLBC)\"\n",
    "dataset = \"TCGA-DLBC.htseq_counts.tsv\""
   ]
  },
  {
   "cell_type": "code",
   "execution_count": 9,
   "metadata": {},
   "outputs": [
    {
     "name": "stdout",
     "output_type": "stream",
     "text": [
      "len(samples): 48\n"
     ]
    }
   ],
   "source": [
    "# Fetch the sample names in the dataset\n",
    "samples=xena.dataset_samples (hub, dataset, None)\n",
    "print(\"len(samples): {}\".format(len(samples)))"
   ]
  },
  {
   "cell_type": "code",
   "execution_count": 10,
   "metadata": {},
   "outputs": [],
   "source": [
    "stage4 = [s for s in samples if s in df_S4.index.values]\n",
    "stage1 = [s for s in samples if s in df_S1.index.values]"
   ]
  },
  {
   "cell_type": "code",
   "execution_count": 11,
   "metadata": {},
   "outputs": [
    {
     "name": "stdout",
     "output_type": "stream",
     "text": [
      "len(stage4): 12, len(stage1): 8\n"
     ]
    }
   ],
   "source": [
    "print(\"len(stage4): {}, len(stage1): {}\".format(len(stage4),len(stage1)))"
   ]
  },
  {
   "cell_type": "code",
   "execution_count": 12,
   "metadata": {},
   "outputs": [],
   "source": [
    "# Create phenotype file\n",
    "columns = ['clinical_stage']\n",
    "pheno = pd.concat([df.loc[stage4, columns], df.loc[stage1, columns]])\n",
    "\n",
    "pheno.to_csv(\"~/phenotype.tsv\", sep='\\t')"
   ]
  },
  {
   "cell_type": "code",
   "execution_count": null,
   "metadata": {},
   "outputs": [],
   "source": []
  },
  {
   "cell_type": "code",
   "execution_count": 13,
   "metadata": {},
   "outputs": [],
   "source": [
    "probes = xena.dataset_field(hub, dataset)"
   ]
  },
  {
   "cell_type": "code",
   "execution_count": 14,
   "metadata": {},
   "outputs": [],
   "source": [
    "# Because of connection timeout, fetch the values of probes by batch\n",
    "def divide_probes_to_batches(num_probes, limit=10000):\n",
    "    num_batches = num_probes // limit\n",
    "    batches = [limit for i in range(num_batches)]\n",
    "    if len(batches) == 0:\n",
    "        batches.append(num_probes)\n",
    "    else:\n",
    "        remainder = num_probes - sum(batches)\n",
    "        if remainder > 0:\n",
    "            batches.append(remainder)\n",
    "    return batches"
   ]
  },
  {
   "cell_type": "code",
   "execution_count": 15,
   "metadata": {},
   "outputs": [],
   "source": [
    "# Fetch counts from xena db\n",
    "def dataset_fetch(probes, samples, prefix=''):\n",
    "    counts = xena.dataset_fetch(hub, dataset, samples, probes)\n",
    "    df = pd.DataFrame.from_records(counts)\n",
    "    df.index.name = 'Probes'\n",
    "    df.index = probes\n",
    "    if prefix != '':\n",
    "        samples = [prefix + str(i+1) for i in range(len(samples))]\n",
    "    df.columns = samples\n",
    "    \n",
    "    return df"
   ]
  },
  {
   "cell_type": "code",
   "execution_count": 16,
   "metadata": {},
   "outputs": [],
   "source": [
    "df_stage4_counts = pd.DataFrame()\n",
    "df_stage1_counts = pd.DataFrame()\n",
    "batches = divide_probes_to_batches(len(probes),limit=2000)\n",
    "i = 0\n",
    "for batch in batches:\n",
    "    # fetch stage 4 batch probes counts\n",
    "    df_stage4_batch = dataset_fetch(probes[i:i+batch],stage4,prefix='stage4_')\n",
    "    df_stage4_counts = pd.concat([df_stage4_counts,df_stage4_batch])\n",
    "    # fetch stage 1 batch probes counts\n",
    "    df_stage1_batch = dataset_fetch(probes[i:i+batch],stage1,prefix='stage1_')\n",
    "    df_stage1_counts = pd.concat([df_stage1_counts,df_stage1_batch])\n",
    "    i += batch"
   ]
  },
  {
   "cell_type": "code",
   "execution_count": 17,
   "metadata": {},
   "outputs": [],
   "source": [
    "df_counts = pd.concat([df_stage4_counts, df_stage1_counts], axis=1, join='inner')\n",
    "df_counts.to_csv(\"~/log_counts.tsv\", sep='\\t')"
   ]
  },
  {
   "cell_type": "code",
   "execution_count": 18,
   "metadata": {},
   "outputs": [],
   "source": [
    "def valuation_formula(x):\n",
    "    for i, v in enumerate(x):\n",
    "        if i == 0: continue\n",
    "        x[i] = round(2**v) -1\n",
    "    return x"
   ]
  },
  {
   "cell_type": "code",
   "execution_count": 19,
   "metadata": {},
   "outputs": [],
   "source": [
    "def norm_counts_to_raw(df):\n",
    "    df = df.apply(lambda row: valuation_formula(row), axis=1)\n",
    "    return df"
   ]
  },
  {
   "cell_type": "code",
   "execution_count": 20,
   "metadata": {},
   "outputs": [],
   "source": [
    "df_log = pd.read_csv('~/log_counts.tsv', sep='\\t', encoding = \"ISO-8859-1\")"
   ]
  },
  {
   "cell_type": "code",
   "execution_count": 21,
   "metadata": {},
   "outputs": [],
   "source": [
    "df_delog = norm_counts_to_raw(df_log)"
   ]
  },
  {
   "cell_type": "code",
   "execution_count": 22,
   "metadata": {
    "collapsed": true,
    "jupyter": {
     "outputs_hidden": true
    }
   },
   "outputs": [
    {
     "data": {
      "text/html": [
       "<div>\n",
       "<style scoped>\n",
       "    .dataframe tbody tr th:only-of-type {\n",
       "        vertical-align: middle;\n",
       "    }\n",
       "\n",
       "    .dataframe tbody tr th {\n",
       "        vertical-align: top;\n",
       "    }\n",
       "\n",
       "    .dataframe thead th {\n",
       "        text-align: right;\n",
       "    }\n",
       "</style>\n",
       "<table border=\"1\" class=\"dataframe\">\n",
       "  <thead>\n",
       "    <tr style=\"text-align: right;\">\n",
       "      <th></th>\n",
       "      <th>Unnamed: 0</th>\n",
       "      <th>stage4_1</th>\n",
       "      <th>stage4_2</th>\n",
       "      <th>stage4_3</th>\n",
       "      <th>stage4_4</th>\n",
       "      <th>stage4_5</th>\n",
       "      <th>stage4_6</th>\n",
       "      <th>stage4_7</th>\n",
       "      <th>stage4_8</th>\n",
       "      <th>stage4_9</th>\n",
       "      <th>...</th>\n",
       "      <th>stage4_11</th>\n",
       "      <th>stage4_12</th>\n",
       "      <th>stage1_1</th>\n",
       "      <th>stage1_2</th>\n",
       "      <th>stage1_3</th>\n",
       "      <th>stage1_4</th>\n",
       "      <th>stage1_5</th>\n",
       "      <th>stage1_6</th>\n",
       "      <th>stage1_7</th>\n",
       "      <th>stage1_8</th>\n",
       "    </tr>\n",
       "  </thead>\n",
       "  <tbody>\n",
       "    <tr>\n",
       "      <th>0</th>\n",
       "      <td>ENSG00000000003.13</td>\n",
       "      <td>48</td>\n",
       "      <td>76</td>\n",
       "      <td>90</td>\n",
       "      <td>69</td>\n",
       "      <td>78</td>\n",
       "      <td>163</td>\n",
       "      <td>376</td>\n",
       "      <td>66</td>\n",
       "      <td>149</td>\n",
       "      <td>...</td>\n",
       "      <td>161</td>\n",
       "      <td>258</td>\n",
       "      <td>86</td>\n",
       "      <td>258</td>\n",
       "      <td>127</td>\n",
       "      <td>97</td>\n",
       "      <td>219</td>\n",
       "      <td>261</td>\n",
       "      <td>307</td>\n",
       "      <td>63</td>\n",
       "    </tr>\n",
       "    <tr>\n",
       "      <th>1</th>\n",
       "      <td>ENSG00000000005.5</td>\n",
       "      <td>1</td>\n",
       "      <td>0</td>\n",
       "      <td>0</td>\n",
       "      <td>2</td>\n",
       "      <td>0</td>\n",
       "      <td>4</td>\n",
       "      <td>1</td>\n",
       "      <td>0</td>\n",
       "      <td>5</td>\n",
       "      <td>...</td>\n",
       "      <td>0</td>\n",
       "      <td>5</td>\n",
       "      <td>0</td>\n",
       "      <td>0</td>\n",
       "      <td>0</td>\n",
       "      <td>0</td>\n",
       "      <td>1</td>\n",
       "      <td>0</td>\n",
       "      <td>11</td>\n",
       "      <td>2</td>\n",
       "    </tr>\n",
       "    <tr>\n",
       "      <th>2</th>\n",
       "      <td>ENSG00000000419.11</td>\n",
       "      <td>1977</td>\n",
       "      <td>2573</td>\n",
       "      <td>1143</td>\n",
       "      <td>1745</td>\n",
       "      <td>451</td>\n",
       "      <td>2503</td>\n",
       "      <td>2538</td>\n",
       "      <td>2319</td>\n",
       "      <td>914</td>\n",
       "      <td>...</td>\n",
       "      <td>1104</td>\n",
       "      <td>2134</td>\n",
       "      <td>1008</td>\n",
       "      <td>1360</td>\n",
       "      <td>2047</td>\n",
       "      <td>1573</td>\n",
       "      <td>2855</td>\n",
       "      <td>821</td>\n",
       "      <td>1584</td>\n",
       "      <td>1183</td>\n",
       "    </tr>\n",
       "    <tr>\n",
       "      <th>3</th>\n",
       "      <td>ENSG00000000457.12</td>\n",
       "      <td>640</td>\n",
       "      <td>1089</td>\n",
       "      <td>340</td>\n",
       "      <td>1192</td>\n",
       "      <td>205</td>\n",
       "      <td>1757</td>\n",
       "      <td>904</td>\n",
       "      <td>945</td>\n",
       "      <td>314</td>\n",
       "      <td>...</td>\n",
       "      <td>540</td>\n",
       "      <td>932</td>\n",
       "      <td>181</td>\n",
       "      <td>683</td>\n",
       "      <td>1167</td>\n",
       "      <td>254</td>\n",
       "      <td>512</td>\n",
       "      <td>137</td>\n",
       "      <td>1709</td>\n",
       "      <td>509</td>\n",
       "    </tr>\n",
       "    <tr>\n",
       "      <th>4</th>\n",
       "      <td>ENSG00000000460.15</td>\n",
       "      <td>587</td>\n",
       "      <td>2033</td>\n",
       "      <td>171</td>\n",
       "      <td>1360</td>\n",
       "      <td>90</td>\n",
       "      <td>2434</td>\n",
       "      <td>598</td>\n",
       "      <td>1488</td>\n",
       "      <td>131</td>\n",
       "      <td>...</td>\n",
       "      <td>278</td>\n",
       "      <td>1686</td>\n",
       "      <td>408</td>\n",
       "      <td>679</td>\n",
       "      <td>643</td>\n",
       "      <td>671</td>\n",
       "      <td>1052</td>\n",
       "      <td>270</td>\n",
       "      <td>836</td>\n",
       "      <td>547</td>\n",
       "    </tr>\n",
       "  </tbody>\n",
       "</table>\n",
       "<p>5 rows × 21 columns</p>\n",
       "</div>"
      ],
      "text/plain": [
       "           Unnamed: 0  stage4_1  stage4_2  stage4_3  stage4_4  stage4_5  \\\n",
       "0  ENSG00000000003.13        48        76        90        69        78   \n",
       "1   ENSG00000000005.5         1         0         0         2         0   \n",
       "2  ENSG00000000419.11      1977      2573      1143      1745       451   \n",
       "3  ENSG00000000457.12       640      1089       340      1192       205   \n",
       "4  ENSG00000000460.15       587      2033       171      1360        90   \n",
       "\n",
       "   stage4_6  stage4_7  stage4_8  stage4_9  ...  stage4_11  stage4_12  \\\n",
       "0       163       376        66       149  ...        161        258   \n",
       "1         4         1         0         5  ...          0          5   \n",
       "2      2503      2538      2319       914  ...       1104       2134   \n",
       "3      1757       904       945       314  ...        540        932   \n",
       "4      2434       598      1488       131  ...        278       1686   \n",
       "\n",
       "   stage1_1  stage1_2  stage1_3  stage1_4  stage1_5  stage1_6  stage1_7  \\\n",
       "0        86       258       127        97       219       261       307   \n",
       "1         0         0         0         0         1         0        11   \n",
       "2      1008      1360      2047      1573      2855       821      1584   \n",
       "3       181       683      1167       254       512       137      1709   \n",
       "4       408       679       643       671      1052       270       836   \n",
       "\n",
       "   stage1_8  \n",
       "0        63  \n",
       "1         2  \n",
       "2      1183  \n",
       "3       509  \n",
       "4       547  \n",
       "\n",
       "[5 rows x 21 columns]"
      ]
     },
     "execution_count": 22,
     "metadata": {},
     "output_type": "execute_result"
    }
   ],
   "source": [
    "df_delog.head()"
   ]
  },
  {
   "cell_type": "code",
   "execution_count": 23,
   "metadata": {},
   "outputs": [],
   "source": [
    "df_delog.to_csv(\"~/counts.csv\")"
   ]
  },
  {
   "cell_type": "code",
   "execution_count": 24,
   "metadata": {},
   "outputs": [],
   "source": [
    "t_df = pd.DataFrame()\n",
    "t_df['id'] = df_delog.columns[1:]"
   ]
  },
  {
   "cell_type": "code",
   "execution_count": 25,
   "metadata": {},
   "outputs": [],
   "source": [
    "condition = []\n",
    "samples = []\n",
    "i, j = 0, 0\n",
    "for rep in t_df['id']:\n",
    "    if rep.startswith(\"stage4\"):\n",
    "        condition.append('S4')\n",
    "        samples.append(stage4[i])\n",
    "        i += 1\n",
    "    else:\n",
    "        condition.append('S1')\n",
    "        samples.append(stage1[j])\n",
    "        j += 1"
   ]
  },
  {
   "cell_type": "code",
   "execution_count": 26,
   "metadata": {},
   "outputs": [],
   "source": [
    "t_df['conditionName'] = condition\n",
    "t_df['sampleId'] = samples"
   ]
  },
  {
   "cell_type": "code",
   "execution_count": 27,
   "metadata": {},
   "outputs": [],
   "source": [
    "t_df.to_csv('~/pData.txt', sep='\\t', encoding=\"ISO-8859-1\", index=False)"
   ]
  },
  {
   "cell_type": "code",
   "execution_count": null,
   "metadata": {},
   "outputs": [],
   "source": []
  }
 ],
 "metadata": {
  "kernelspec": {
   "display_name": "Python 3",
   "language": "python",
   "name": "python3"
  },
  "language_info": {
   "codemirror_mode": {
    "name": "ipython",
    "version": 3
   },
   "file_extension": ".py",
   "mimetype": "text/x-python",
   "name": "python",
   "nbconvert_exporter": "python",
   "pygments_lexer": "ipython3",
   "version": "3.7.4"
  }
 },
 "nbformat": 4,
 "nbformat_minor": 4
}
